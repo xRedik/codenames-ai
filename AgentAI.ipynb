{
 "cells": [
  {
   "cell_type": "code",
   "execution_count": 2,
   "metadata": {
    "colab": {
     "base_uri": "https://localhost:8080/"
    },
    "id": "1PguALG6LRHB",
    "outputId": "b224a5a0-1fc4-4899-d7c8-de67c413cc62"
   },
   "outputs": [
    {
     "name": "stdout",
     "output_type": "stream",
     "text": [
      "[nltk_data] Downloading package averaged_perceptron_tagger to\n",
      "[nltk_data]     /root/nltk_data...\n",
      "[nltk_data]   Package averaged_perceptron_tagger is already up-to-\n",
      "[nltk_data]       date!\n",
      "[nltk_data] Downloading package wordnet to /root/nltk_data...\n",
      "[nltk_data]   Package wordnet is already up-to-date!\n",
      "[nltk_data] Downloading package stopwords to /root/nltk_data...\n",
      "[nltk_data]   Package stopwords is already up-to-date!\n"
     ]
    },
    {
     "data": {
      "text/plain": [
       "True"
      ]
     },
     "execution_count": 2,
     "metadata": {
      "tags": []
     },
     "output_type": "execute_result"
    }
   ],
   "source": [
    "import re\n",
    "import gensim\n",
    "import gensim.downloader as api\n",
    "import numpy\n",
    "import nltk\n",
    "from nltk.corpus import wordnet, stopwords\n",
    "from nltk.stem.porter import PorterStemmer\n",
    "from nltk.stem import WordNetLemmatizer\n",
    "from gensim.test.utils import datapath, get_tmpfile\n",
    "from gensim.models import KeyedVectors\n",
    "from gensim.scripts.glove2word2vec import glove2word2vec\n",
    "\n",
    "\n",
    "nltk.download('averaged_perceptron_tagger')\n",
    "nltk.download('wordnet')\n",
    "nltk.download('stopwords')"
   ]
  },
  {
   "cell_type": "code",
   "execution_count": 4,
   "metadata": {
    "colab": {
     "base_uri": "https://localhost:8080/"
    },
    "id": "0QlD-0ej93sk",
    "outputId": "3644b043-afe6-4c87-bf42-28c51617ed8c"
   },
   "outputs": [
    {
     "name": "stdout",
     "output_type": "stream",
     "text": [
      "[==================================================] 100.0% 758.5/758.5MB downloaded\n"
     ]
    }
   ],
   "source": [
    "wv = api.load('glove-twitter-200')"
   ]
  },
  {
   "cell_type": "code",
   "execution_count": 43,
   "metadata": {
    "id": "5Ck8iD0e9Vli"
   },
   "outputs": [],
   "source": [
    "class AgentAI:\n",
    "  def __init__(self,words=None,spy_tuple = None):\n",
    "    if(words==None):\n",
    "      raise Exception(\"Please enter all parameters\")\n",
    "    self.game_words = words\n",
    "    if spy_tuple != None:\n",
    "      self.spy_tuple = spy_tuple\n",
    "      self.spy_word, self.spy_num = self.spy_tuple\n",
    "  \n",
    "  def choose_word(self, spy_tuple = None):\n",
    "    if spy_tuple != None:\n",
    "      self.spy_word, self.spy_num = spy_tuple\n",
    "    self.dict_word_distance = {}\n",
    "    for word in self.game_words:\n",
    "      self.dict_word_distance[word] = wv.distance(self.spy_word,word)\n",
    "    self.dict_word_distance = dict(sorted(self.dict_word_distance.items(), \n",
    "                                          key=lambda item: item[1]))\n",
    "    return list(self.dict_word_distance.items())[:self.spy_num]"
   ]
  },
  {
   "cell_type": "code",
   "execution_count": 44,
   "metadata": {
    "id": "KDfb3JYICmn8"
   },
   "outputs": [],
   "source": [
    "ai = AgentAI(words = ['chair','table','bench',\n",
    "                      'cat','dog','rabbit',\n",
    "                      'apple','banana','pear',\n",
    "                      'piano'])"
   ]
  },
  {
   "cell_type": "code",
   "execution_count": 45,
   "metadata": {
    "colab": {
     "base_uri": "https://localhost:8080/"
    },
    "id": "-qdPqyh3DAlr",
    "outputId": "665b9802-f453-4e08-e04f-fb117952af56"
   },
   "outputs": [
    {
     "data": {
      "text/plain": [
       "[('dog', 0.21095889806747437), ('cat', 0.29768067598342896)]"
      ]
     },
     "execution_count": 45,
     "metadata": {
      "tags": []
     },
     "output_type": "execute_result"
    }
   ],
   "source": [
    "ai.choose_word(spy_tuple = ('puppy',2))"
   ]
  },
  {
   "cell_type": "code",
   "execution_count": 35,
   "metadata": {
    "id": "hTCP3F7-DCq_"
   },
   "outputs": [],
   "source": []
  }
 ],
 "metadata": {
  "colab": {
   "name": "AgentAI.ipynb",
   "provenance": []
  },
  "kernelspec": {
   "display_name": "Python 3",
   "language": "python",
   "name": "python3"
  },
  "language_info": {
   "codemirror_mode": {
    "name": "ipython",
    "version": 3
   },
   "file_extension": ".py",
   "mimetype": "text/x-python",
   "name": "python",
   "nbconvert_exporter": "python",
   "pygments_lexer": "ipython3",
   "version": "3.6.9"
  }
 },
 "nbformat": 4,
 "nbformat_minor": 1
}
