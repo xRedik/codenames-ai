{
 "cells": [
  {
   "cell_type": "markdown",
   "metadata": {},
   "source": [
    "# Example usage of SpyMasterAI class"
   ]
  },
  {
   "cell_type": "markdown",
   "metadata": {},
   "source": [
    "Importing the SpyMasterAI class"
   ]
  },
  {
   "cell_type": "code",
   "execution_count": 2,
   "metadata": {
    "colab": {
     "base_uri": "https://localhost:8080/"
    },
    "id": "1PguALG6LRHB",
    "outputId": "e125240d-9e07-408d-86ea-8a1f639366cf"
   },
   "outputs": [],
   "source": [
    "from codenamesAI import SpyMasterAI"
   ]
  },
  {
   "cell_type": "markdown",
   "metadata": {},
   "source": [
    "Loading the one of the glove model (better model, better result)"
   ]
  },
  {
   "cell_type": "code",
   "execution_count": 5,
   "metadata": {
    "colab": {
     "base_uri": "https://localhost:8080/"
    },
    "id": "IehL2X-dLdQd",
    "outputId": "889fbfb3-4ba8-4ae0-f648-82849e425a2a"
   },
   "outputs": [],
   "source": [
    "import gensim.downloader as api\n",
    "wv = api.load('glove-twitter-200')"
   ]
  },
  {
   "cell_type": "markdown",
   "metadata": {},
   "source": [
    "Creating the object from that class"
   ]
  },
  {
   "cell_type": "code",
   "execution_count": 17,
   "metadata": {
    "id": "OvgP_D_DbUNj"
   },
   "outputs": [],
   "source": [
    "ai = SpyMasterAI(model = wv, red_words = ['chair','table','bench'],\n",
    "                             blue_words = ['cat','dog','rabbit'], \n",
    "                             czn_words = ['apple','banana','pear'],\n",
    "                             assa_word = ['piano'])"
   ]
  },
  {
   "cell_type": "markdown",
   "metadata": {},
   "source": [
    "Choosing the ally team and finding the best combination for the words of that team"
   ]
  },
  {
   "cell_type": "code",
   "execution_count": 18,
   "metadata": {
    "id": "FLDQeTWKdm_l"
   },
   "outputs": [
    {
     "data": {
      "text/plain": [
       "(('teak', 0.35301798582077026), 2, array(['table', 'bench'], dtype=object))"
      ]
     },
     "execution_count": 18,
     "metadata": {},
     "output_type": "execute_result"
    }
   ],
   "source": [
    "ai.ally_label = 'red'\n",
    "ai.best_combination()"
   ]
  },
  {
   "cell_type": "markdown",
   "metadata": {},
   "source": [
    "Assume that the words were choiced by players, so let's update the table"
   ]
  },
  {
   "cell_type": "code",
   "execution_count": 21,
   "metadata": {
    "id": "deh8jiuCkpuW"
   },
   "outputs": [
    {
     "data": {
      "text/plain": [
       "array(['bench'], dtype='<U5')"
      ]
     },
     "execution_count": 21,
     "metadata": {},
     "output_type": "execute_result"
    }
   ],
   "source": [
    "ai.update_table(['table','chair'])\n",
    "ai.ally_team"
   ]
  },
  {
   "cell_type": "markdown",
   "metadata": {},
   "source": [
    "Let's find the best combination for that word"
   ]
  },
  {
   "cell_type": "code",
   "execution_count": 22,
   "metadata": {
    "colab": {
     "base_uri": "https://localhost:8080/"
    },
    "id": "6WAd27lqk82g",
    "outputId": "82528066-220b-4587-9588-c2b8561781c4"
   },
   "outputs": [
    {
     "data": {
      "text/plain": [
       "(('backfield', 0.3676873445510864), 1, array(['bench'], dtype=object))"
      ]
     },
     "execution_count": 22,
     "metadata": {},
     "output_type": "execute_result"
    }
   ],
   "source": [
    "ai.best_combination()"
   ]
  },
  {
   "cell_type": "markdown",
   "metadata": {},
   "source": [
    "Now let's change the team and do the same things"
   ]
  },
  {
   "cell_type": "code",
   "execution_count": 23,
   "metadata": {
    "colab": {
     "base_uri": "https://localhost:8080/"
    },
    "id": "GbM6vEvorNeR",
    "outputId": "52c4f12b-1afb-4a2a-cbca-e0ef28d12f69"
   },
   "outputs": [
    {
     "data": {
      "text/plain": [
       "(('bunny', 0.39691951870918274), 1, array(['rabbit'], dtype=object))"
      ]
     },
     "execution_count": 23,
     "metadata": {},
     "output_type": "execute_result"
    }
   ],
   "source": [
    "ai.ally_label = 'blue'\n",
    "ai.best_combination()"
   ]
  },
  {
   "cell_type": "code",
   "execution_count": 25,
   "metadata": {
    "id": "5_uFn9nAumhs"
   },
   "outputs": [
    {
     "data": {
      "text/plain": [
       "array(['cat', 'dog'], dtype='<U6')"
      ]
     },
     "execution_count": 25,
     "metadata": {},
     "output_type": "execute_result"
    }
   ],
   "source": [
    "ai.update_table(['rabbit'])\n",
    "ai.ally_team"
   ]
  }
 ],
 "metadata": {
  "colab": {
   "collapsed_sections": [],
   "name": "SpyMasterAI.ipynb",
   "provenance": []
  },
  "kernelspec": {
   "display_name": "Python 3",
   "language": "python",
   "name": "python3"
  },
  "language_info": {
   "codemirror_mode": {
    "name": "ipython",
    "version": 3
   },
   "file_extension": ".py",
   "mimetype": "text/x-python",
   "name": "python",
   "nbconvert_exporter": "python",
   "pygments_lexer": "ipython3",
   "version": "3.6.9"
  }
 },
 "nbformat": 4,
 "nbformat_minor": 1
}
