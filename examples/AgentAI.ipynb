{
 "cells": [
  {
   "cell_type": "markdown",
   "metadata": {},
   "source": [
    "# Example usage of SpyMasterAI class"
   ]
  },
  {
   "cell_type": "markdown",
   "metadata": {},
   "source": [
    "Importing the AgentAI class"
   ]
  },
  {
   "cell_type": "code",
   "execution_count": 8,
   "metadata": {
    "colab": {
     "base_uri": "https://localhost:8080/"
    },
    "id": "1PguALG6LRHB",
    "outputId": "b224a5a0-1fc4-4899-d7c8-de67c413cc62"
   },
   "outputs": [],
   "source": [
    "from codenamesAI import AgentAI"
   ]
  },
  {
   "cell_type": "markdown",
   "metadata": {},
   "source": [
    "Loading the one of the glove model (better model, better result)"
   ]
  },
  {
   "cell_type": "code",
   "execution_count": 9,
   "metadata": {
    "colab": {
     "base_uri": "https://localhost:8080/"
    },
    "id": "0QlD-0ej93sk",
    "outputId": "3644b043-afe6-4c87-bf42-28c51617ed8c"
   },
   "outputs": [],
   "source": [
    "import gensim.downloader as api\n",
    "wv = api.load('glove-twitter-200')"
   ]
  },
  {
   "cell_type": "markdown",
   "metadata": {},
   "source": [
    "Creating the object from that class"
   ]
  },
  {
   "cell_type": "code",
   "execution_count": 11,
   "metadata": {
    "id": "KDfb3JYICmn8"
   },
   "outputs": [],
   "source": [
    "ai = AgentAI(model = wv,words = ['chair','table','bench',\n",
    "                                 'cat','dog','rabbit',\n",
    "                                 'apple','banana','pear',\n",
    "                                 'piano'])"
   ]
  },
  {
   "cell_type": "markdown",
   "metadata": {},
   "source": [
    "Finding the best 2 word which is closer to the word 'puppy' with using the choose_word method of AgentAI class"
   ]
  },
  {
   "cell_type": "code",
   "execution_count": 12,
   "metadata": {
    "colab": {
     "base_uri": "https://localhost:8080/"
    },
    "id": "-qdPqyh3DAlr",
    "outputId": "665b9802-f453-4e08-e04f-fb117952af56"
   },
   "outputs": [
    {
     "data": {
      "text/plain": [
       "[('dog', 0.21095889806747437), ('cat', 0.29768067598342896)]"
      ]
     },
     "execution_count": 12,
     "metadata": {},
     "output_type": "execute_result"
    }
   ],
   "source": [
    "ai.choose_word(spy_tuple = ('puppy',2))"
   ]
  },
  {
   "cell_type": "markdown",
   "metadata": {},
   "source": [
    "Same thing but for the word 'fruit'"
   ]
  },
  {
   "cell_type": "code",
   "execution_count": 13,
   "metadata": {
    "id": "hTCP3F7-DCq_"
   },
   "outputs": [
    {
     "data": {
      "text/plain": [
       "[('banana', 0.42013585567474365), ('pear', 0.5015788376331329)]"
      ]
     },
     "execution_count": 13,
     "metadata": {},
     "output_type": "execute_result"
    }
   ],
   "source": [
    "ai.choose_word(spy_tuple = ('fruit',2))"
   ]
  }
 ],
 "metadata": {
  "colab": {
   "name": "AgentAI.ipynb",
   "provenance": []
  },
  "kernelspec": {
   "display_name": "Python 3",
   "language": "python",
   "name": "python3"
  },
  "language_info": {
   "codemirror_mode": {
    "name": "ipython",
    "version": 3
   },
   "file_extension": ".py",
   "mimetype": "text/x-python",
   "name": "python",
   "nbconvert_exporter": "python",
   "pygments_lexer": "ipython3",
   "version": "3.6.9"
  }
 },
 "nbformat": 4,
 "nbformat_minor": 1
}
